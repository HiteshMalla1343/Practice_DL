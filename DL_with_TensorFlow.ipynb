{
  "nbformat": 4,
  "nbformat_minor": 0,
  "metadata": {
    "colab": {
      "provenance": [],
      "authorship_tag": "ABX9TyP0ZTIE8DZ2JpfYbsCbaF65",
      "include_colab_link": true
    },
    "kernelspec": {
      "name": "python3",
      "display_name": "Python 3"
    },
    "language_info": {
      "name": "python"
    },
    "accelerator": "GPU",
    "gpuClass": "standard"
  },
  "cells": [
    {
      "cell_type": "markdown",
      "metadata": {
        "id": "view-in-github",
        "colab_type": "text"
      },
      "source": [
        "<a href=\"https://colab.research.google.com/github/HiteshMalla1343/Practice_DL/blob/main/DL_with_TensorFlow.ipynb\" target=\"_parent\"><img src=\"https://colab.research.google.com/assets/colab-badge.svg\" alt=\"Open In Colab\"/></a>"
      ]
    },
    {
      "cell_type": "code",
      "execution_count": null,
      "metadata": {
        "id": "HFFIUeBaQ9Pj"
      },
      "outputs": [],
      "source": [
        "import tensorflow as tf"
      ]
    },
    {
      "cell_type": "code",
      "source": [
        "print(tf.__version__)"
      ],
      "metadata": {
        "colab": {
          "base_uri": "https://localhost:8080/"
        },
        "id": "_8J-XgiORFBe",
        "outputId": "5e969197-bb2f-43fe-c8d9-392b06d0c484"
      },
      "execution_count": null,
      "outputs": [
        {
          "output_type": "stream",
          "name": "stdout",
          "text": [
            "2.9.2\n"
          ]
        }
      ]
    },
    {
      "cell_type": "code",
      "source": [
        "scalar = tf.constant(7)"
      ],
      "metadata": {
        "id": "J-7W4PjURKQV"
      },
      "execution_count": null,
      "outputs": []
    },
    {
      "cell_type": "code",
      "source": [
        "vector = tf.constant([1,2])"
      ],
      "metadata": {
        "id": "fexkh6z8WaJL"
      },
      "execution_count": null,
      "outputs": []
    },
    {
      "cell_type": "code",
      "source": [
        "matrix = tf.constant([[1,2,3],[4,5,6],[7,8,9]],dtype=tf.float16)"
      ],
      "metadata": {
        "id": "lcOM2yzTWgjo"
      },
      "execution_count": null,
      "outputs": []
    },
    {
      "cell_type": "code",
      "source": [
        "tensor = tf.constant([[[1,2,3],[4,5,6],[7,8,9]],[[11,12,13],[14,15,16],[17,18,19]],[[21,22,23],[24,25,26],[27,28,29]]],dtype=tf.float16)"
      ],
      "metadata": {
        "id": "CAQiGWkwWops"
      },
      "execution_count": null,
      "outputs": []
    },
    {
      "cell_type": "code",
      "source": [
        "scalar.ndim"
      ],
      "metadata": {
        "colab": {
          "base_uri": "https://localhost:8080/"
        },
        "id": "ltlgssUhW-tM",
        "outputId": "1f4d9402-8164-44c8-f544-2258581c3f05"
      },
      "execution_count": null,
      "outputs": [
        {
          "output_type": "execute_result",
          "data": {
            "text/plain": [
              "0"
            ]
          },
          "metadata": {},
          "execution_count": 7
        }
      ]
    },
    {
      "cell_type": "code",
      "source": [
        "vector.ndim"
      ],
      "metadata": {
        "colab": {
          "base_uri": "https://localhost:8080/"
        },
        "id": "jg6wszcFXA3E",
        "outputId": "b599b45a-e416-4246-8e8d-1c05d0ae13f8"
      },
      "execution_count": null,
      "outputs": [
        {
          "output_type": "execute_result",
          "data": {
            "text/plain": [
              "1"
            ]
          },
          "metadata": {},
          "execution_count": 8
        }
      ]
    },
    {
      "cell_type": "code",
      "source": [
        "matrix.ndim"
      ],
      "metadata": {
        "colab": {
          "base_uri": "https://localhost:8080/"
        },
        "id": "PRDM1LNxXC5K",
        "outputId": "95073dc3-fe1f-4fdc-c8b4-ad984035a297"
      },
      "execution_count": null,
      "outputs": [
        {
          "output_type": "execute_result",
          "data": {
            "text/plain": [
              "2"
            ]
          },
          "metadata": {},
          "execution_count": 9
        }
      ]
    },
    {
      "cell_type": "code",
      "source": [
        "tensor.ndim"
      ],
      "metadata": {
        "colab": {
          "base_uri": "https://localhost:8080/"
        },
        "id": "IDz_SPqWXEoR",
        "outputId": "8ba0e903-639c-4082-adc9-8cfcb9e5ac29"
      },
      "execution_count": null,
      "outputs": [
        {
          "output_type": "execute_result",
          "data": {
            "text/plain": [
              "3"
            ]
          },
          "metadata": {},
          "execution_count": 10
        }
      ]
    },
    {
      "cell_type": "code",
      "source": [
        "scalar"
      ],
      "metadata": {
        "colab": {
          "base_uri": "https://localhost:8080/"
        },
        "id": "CMtlJGDLXGZn",
        "outputId": "ed036835-83f2-4c95-c90e-66e47e886ee7"
      },
      "execution_count": null,
      "outputs": [
        {
          "output_type": "execute_result",
          "data": {
            "text/plain": [
              "<tf.Tensor: shape=(), dtype=int32, numpy=7>"
            ]
          },
          "metadata": {},
          "execution_count": 11
        }
      ]
    },
    {
      "cell_type": "code",
      "source": [
        "vector"
      ],
      "metadata": {
        "colab": {
          "base_uri": "https://localhost:8080/"
        },
        "id": "B5EPqvS3XHna",
        "outputId": "d9a6263e-f9f4-486e-d48a-282b963f4a16"
      },
      "execution_count": null,
      "outputs": [
        {
          "output_type": "execute_result",
          "data": {
            "text/plain": [
              "<tf.Tensor: shape=(2,), dtype=int32, numpy=array([1, 2], dtype=int32)>"
            ]
          },
          "metadata": {},
          "execution_count": 12
        }
      ]
    },
    {
      "cell_type": "code",
      "source": [
        "matrix"
      ],
      "metadata": {
        "colab": {
          "base_uri": "https://localhost:8080/"
        },
        "id": "sNAUcwsPXIx6",
        "outputId": "ed8b3ebf-e24f-4bae-9e6a-07f2b625c67f"
      },
      "execution_count": null,
      "outputs": [
        {
          "output_type": "execute_result",
          "data": {
            "text/plain": [
              "<tf.Tensor: shape=(3, 3), dtype=float16, numpy=\n",
              "array([[1., 2., 3.],\n",
              "       [4., 5., 6.],\n",
              "       [7., 8., 9.]], dtype=float16)>"
            ]
          },
          "metadata": {},
          "execution_count": 13
        }
      ]
    },
    {
      "cell_type": "code",
      "source": [
        "tensor"
      ],
      "metadata": {
        "colab": {
          "base_uri": "https://localhost:8080/"
        },
        "id": "UAhxeqIQXKMw",
        "outputId": "972a2908-55de-4333-80a1-d2aaa157e4b6"
      },
      "execution_count": null,
      "outputs": [
        {
          "output_type": "execute_result",
          "data": {
            "text/plain": [
              "<tf.Tensor: shape=(3, 3, 3), dtype=float16, numpy=\n",
              "array([[[ 1.,  2.,  3.],\n",
              "        [ 4.,  5.,  6.],\n",
              "        [ 7.,  8.,  9.]],\n",
              "\n",
              "       [[11., 12., 13.],\n",
              "        [14., 15., 16.],\n",
              "        [17., 18., 19.]],\n",
              "\n",
              "       [[21., 22., 23.],\n",
              "        [24., 25., 26.],\n",
              "        [27., 28., 29.]]], dtype=float16)>"
            ]
          },
          "metadata": {},
          "execution_count": 14
        }
      ]
    },
    {
      "cell_type": "code",
      "source": [
        "random = tf.random.normal(shape=(3,3))"
      ],
      "metadata": {
        "id": "bDKVJ-RxXLIm"
      },
      "execution_count": null,
      "outputs": []
    },
    {
      "cell_type": "code",
      "source": [
        "random"
      ],
      "metadata": {
        "colab": {
          "base_uri": "https://localhost:8080/"
        },
        "id": "zhQxjFqwbef2",
        "outputId": "8555a780-bda5-4b5a-a32d-61322e89fac4"
      },
      "execution_count": null,
      "outputs": [
        {
          "output_type": "execute_result",
          "data": {
            "text/plain": [
              "<tf.Tensor: shape=(3, 3), dtype=float32, numpy=\n",
              "array([[ 1.3508447 ,  0.6373204 ,  0.0200093 ],\n",
              "       [-1.6662364 , -0.03562373, -0.8825968 ],\n",
              "       [-0.2751889 ,  0.02527829, -0.74938494]], dtype=float32)>"
            ]
          },
          "metadata": {},
          "execution_count": 16
        }
      ]
    },
    {
      "cell_type": "code",
      "source": [
        "random[0]"
      ],
      "metadata": {
        "colab": {
          "base_uri": "https://localhost:8080/"
        },
        "id": "SJ0yKhbJbftj",
        "outputId": "1698a9a2-178b-4582-d276-c929cf96bb11"
      },
      "execution_count": null,
      "outputs": [
        {
          "output_type": "execute_result",
          "data": {
            "text/plain": [
              "<tf.Tensor: shape=(3,), dtype=float32, numpy=array([1.3508447, 0.6373204, 0.0200093], dtype=float32)>"
            ]
          },
          "metadata": {},
          "execution_count": 17
        }
      ]
    },
    {
      "cell_type": "code",
      "source": [
        "tensor[0]"
      ],
      "metadata": {
        "colab": {
          "base_uri": "https://localhost:8080/"
        },
        "id": "pqCopDwBsjww",
        "outputId": "e447bd35-c6be-40c1-ef71-ad13270bbd6f"
      },
      "execution_count": null,
      "outputs": [
        {
          "output_type": "execute_result",
          "data": {
            "text/plain": [
              "<tf.Tensor: shape=(3, 3), dtype=float16, numpy=\n",
              "array([[1., 2., 3.],\n",
              "       [4., 5., 6.],\n",
              "       [7., 8., 9.]], dtype=float16)>"
            ]
          },
          "metadata": {},
          "execution_count": 18
        }
      ]
    },
    {
      "cell_type": "code",
      "source": [
        "tensor[:2,1:,:2]"
      ],
      "metadata": {
        "colab": {
          "base_uri": "https://localhost:8080/"
        },
        "id": "aTzn218Ksm9s",
        "outputId": "362e3a6e-3738-4db1-aa14-dd0fa263e34d"
      },
      "execution_count": null,
      "outputs": [
        {
          "output_type": "execute_result",
          "data": {
            "text/plain": [
              "<tf.Tensor: shape=(2, 2, 2), dtype=float16, numpy=\n",
              "array([[[ 4.,  5.],\n",
              "        [ 7.,  8.]],\n",
              "\n",
              "       [[14., 15.],\n",
              "        [17., 18.]]], dtype=float16)>"
            ]
          },
          "metadata": {},
          "execution_count": 19
        }
      ]
    },
    {
      "cell_type": "code",
      "source": [
        "t4=tf.zeros(shape=[2,3,4,5,6])"
      ],
      "metadata": {
        "id": "OgER_xGHssKG"
      },
      "execution_count": null,
      "outputs": []
    },
    {
      "cell_type": "code",
      "source": [
        "t4.ndim"
      ],
      "metadata": {
        "colab": {
          "base_uri": "https://localhost:8080/"
        },
        "id": "nWW8P0yOtn2d",
        "outputId": "41f1ba36-fa57-465a-df50-94d47140b5ca"
      },
      "execution_count": null,
      "outputs": [
        {
          "output_type": "execute_result",
          "data": {
            "text/plain": [
              "5"
            ]
          },
          "metadata": {},
          "execution_count": 21
        }
      ]
    },
    {
      "cell_type": "code",
      "source": [
        "tf.math.reduce_std(matrix)"
      ],
      "metadata": {
        "colab": {
          "base_uri": "https://localhost:8080/"
        },
        "id": "n1d1mfITtpae",
        "outputId": "441df9f2-0765-4a40-b752-fd9058b17b88"
      },
      "execution_count": null,
      "outputs": [
        {
          "output_type": "execute_result",
          "data": {
            "text/plain": [
              "<tf.Tensor: shape=(), dtype=float16, numpy=2.582>"
            ]
          },
          "metadata": {},
          "execution_count": 22
        }
      ]
    },
    {
      "cell_type": "code",
      "source": [
        "import tensorflow_probability as tpf "
      ],
      "metadata": {
        "id": "t_qtVO4nt0xF"
      },
      "execution_count": null,
      "outputs": []
    },
    {
      "cell_type": "code",
      "source": [
        "tpf.stats.variance(matrix)"
      ],
      "metadata": {
        "colab": {
          "base_uri": "https://localhost:8080/"
        },
        "id": "Frt-kBrNEz1A",
        "outputId": "3e1508e7-c646-46f2-8708-d1462a4663c2"
      },
      "execution_count": null,
      "outputs": [
        {
          "output_type": "execute_result",
          "data": {
            "text/plain": [
              "<tf.Tensor: shape=(3,), dtype=float16, numpy=array([6., 6., 6.], dtype=float16)>"
            ]
          },
          "metadata": {},
          "execution_count": 24
        }
      ]
    },
    {
      "cell_type": "code",
      "source": [
        "new_tensor=tf.random.normal(shape=(1,2,1,25))"
      ],
      "metadata": {
        "id": "0A-8BGLaE3PT"
      },
      "execution_count": null,
      "outputs": []
    },
    {
      "cell_type": "code",
      "source": [
        "new_tensor_sq=tf.squeeze(new_tensor)\n",
        "new_tensor_sq"
      ],
      "metadata": {
        "colab": {
          "base_uri": "https://localhost:8080/"
        },
        "id": "2GZkEUFYJA6p",
        "outputId": "2b12b399-59db-4074-d077-7263fbb8c2bd"
      },
      "execution_count": null,
      "outputs": [
        {
          "output_type": "execute_result",
          "data": {
            "text/plain": [
              "<tf.Tensor: shape=(2, 25), dtype=float32, numpy=\n",
              "array([[-1.686839  ,  0.1385649 ,  0.76337445, -0.47748554,  0.76433253,\n",
              "         1.3524368 ,  1.9097397 ,  0.82932454,  0.4594042 , -0.02540738,\n",
              "         0.221588  , -0.19197717, -0.8009537 , -3.1343808 ,  1.9619285 ,\n",
              "        -0.04837582,  0.68744487, -0.10524095,  1.4659644 , -1.0505457 ,\n",
              "        -0.84809786,  0.7664247 ,  0.54330415, -0.32595766, -0.582569  ],\n",
              "       [-0.50389975, -0.36599237, -0.7591231 , -0.0210752 ,  0.35659385,\n",
              "        -1.0227315 ,  0.21193038, -0.41451353, -0.7372596 ,  1.8123451 ,\n",
              "        -1.074688  , -2.0611563 , -0.5032146 ,  1.0865514 , -0.40372872,\n",
              "        -0.44266796, -0.731018  , -1.8630778 , -0.1429711 , -0.68903977,\n",
              "         0.6604812 ,  0.39590582,  0.6477989 ,  0.9579084 , -0.21335237]],\n",
              "      dtype=float32)>"
            ]
          },
          "metadata": {},
          "execution_count": 26
        }
      ]
    },
    {
      "cell_type": "code",
      "source": [
        "l=[1,2,3,4]\n",
        "tf.one_hot(l,depth=5)"
      ],
      "metadata": {
        "colab": {
          "base_uri": "https://localhost:8080/"
        },
        "id": "XXBwQqLEJPKI",
        "outputId": "2869430f-2462-4185-cba3-cbaa28a2131e"
      },
      "execution_count": null,
      "outputs": [
        {
          "output_type": "execute_result",
          "data": {
            "text/plain": [
              "<tf.Tensor: shape=(4, 5), dtype=float32, numpy=\n",
              "array([[0., 1., 0., 0., 0.],\n",
              "       [0., 0., 1., 0., 0.],\n",
              "       [0., 0., 0., 1., 0.],\n",
              "       [0., 0., 0., 0., 1.]], dtype=float32)>"
            ]
          },
          "metadata": {},
          "execution_count": 27
        }
      ]
    },
    {
      "cell_type": "code",
      "source": [
        "import numpy as np"
      ],
      "metadata": {
        "id": "umDt6BUbkuVm"
      },
      "execution_count": null,
      "outputs": []
    },
    {
      "cell_type": "code",
      "source": [
        "# creating a dataset \n",
        "X=tf.constant([1.,2.,3.,4.,5.,6.,7.,8.,9.,10.])\n",
        "Y=tf.constant([1.,4.,9.,16.,25.,36.,49.,64.,81.,100.])\n"
      ],
      "metadata": {
        "id": "MKvyFL97LLvr"
      },
      "execution_count": null,
      "outputs": []
    },
    {
      "cell_type": "code",
      "source": [
        "# creating a model which takes 1 number as input and gives 1 number as output\n",
        "model = tf.keras.Sequential()\n",
        "model.add(tf.keras.layers.Dense(100))\n",
        "model.add(tf.keras.layers.Dense(100,activation=\"relu\"))\n",
        "model.add(tf.keras.layers.Dense(100,activation=\"relu\"))\n",
        "model.add(tf.keras.layers.Dense(100,activation=\"relu\"))\n",
        "model.add(tf.keras.layers.Dense(100,activation=\"relu\"))\n",
        "model.add(tf.keras.layers.Dense(100,activation=\"relu\"))\n",
        "model.add(tf.keras.layers.Dense(1))\n",
        "\n",
        "# compiling the model \n",
        "model.compile(loss=tf.keras.losses.mae,\n",
        "              optimizer=tf.keras.optimizers.Adam(lr=0.005),\n",
        "              metrics=[\"mae\"])\n",
        "\n",
        "# fitting the model \n",
        "model.fit(tf.expand_dims(X,axis=-1),Y,epochs=100)"
      ],
      "metadata": {
        "colab": {
          "base_uri": "https://localhost:8080/"
        },
        "id": "AP7Vyyc-VNIG",
        "outputId": "5642f94a-d954-4b39-831a-8586f98c90a7"
      },
      "execution_count": null,
      "outputs": [
        {
          "output_type": "stream",
          "name": "stdout",
          "text": [
            "Epoch 1/100\n",
            "1/1 [==============================] - 1s 754ms/step - loss: 38.3320 - mae: 38.3320\n",
            "Epoch 2/100\n",
            "1/1 [==============================] - 0s 13ms/step - loss: 37.0678 - mae: 37.0678\n",
            "Epoch 3/100\n",
            "1/1 [==============================] - 0s 13ms/step - loss: 33.9354 - mae: 33.9354\n",
            "Epoch 4/100\n",
            "1/1 [==============================] - 0s 11ms/step - loss: 28.2828 - mae: 28.2828\n",
            "Epoch 5/100\n",
            "1/1 [==============================] - 0s 16ms/step - loss: 19.2119 - mae: 19.2119\n",
            "Epoch 6/100\n",
            "1/1 [==============================] - 0s 10ms/step - loss: 11.9165 - mae: 11.9165\n",
            "Epoch 7/100\n",
            "1/1 [==============================] - 0s 8ms/step - loss: 28.5602 - mae: 28.5602\n",
            "Epoch 8/100\n",
            "1/1 [==============================] - 0s 11ms/step - loss: 17.5124 - mae: 17.5124\n",
            "Epoch 9/100\n",
            "1/1 [==============================] - 0s 11ms/step - loss: 11.7356 - mae: 11.7356\n",
            "Epoch 10/100\n",
            "1/1 [==============================] - 0s 8ms/step - loss: 14.8796 - mae: 14.8796\n",
            "Epoch 11/100\n",
            "1/1 [==============================] - 0s 11ms/step - loss: 18.3815 - mae: 18.3815\n",
            "Epoch 12/100\n",
            "1/1 [==============================] - 0s 9ms/step - loss: 20.5881 - mae: 20.5881\n",
            "Epoch 13/100\n",
            "1/1 [==============================] - 0s 11ms/step - loss: 21.3617 - mae: 21.3617\n",
            "Epoch 14/100\n",
            "1/1 [==============================] - 0s 9ms/step - loss: 21.0619 - mae: 21.0619\n",
            "Epoch 15/100\n",
            "1/1 [==============================] - 0s 8ms/step - loss: 19.8068 - mae: 19.8068\n",
            "Epoch 16/100\n",
            "1/1 [==============================] - 0s 9ms/step - loss: 17.6454 - mae: 17.6454\n",
            "Epoch 17/100\n",
            "1/1 [==============================] - 0s 9ms/step - loss: 14.8234 - mae: 14.8234\n",
            "Epoch 18/100\n",
            "1/1 [==============================] - 0s 11ms/step - loss: 12.2691 - mae: 12.2691\n",
            "Epoch 19/100\n",
            "1/1 [==============================] - 0s 10ms/step - loss: 11.3548 - mae: 11.3548\n",
            "Epoch 20/100\n",
            "1/1 [==============================] - 0s 11ms/step - loss: 13.6075 - mae: 13.6075\n",
            "Epoch 21/100\n",
            "1/1 [==============================] - 0s 8ms/step - loss: 15.2037 - mae: 15.2037\n",
            "Epoch 22/100\n",
            "1/1 [==============================] - 0s 9ms/step - loss: 13.3510 - mae: 13.3510\n",
            "Epoch 23/100\n",
            "1/1 [==============================] - 0s 11ms/step - loss: 11.0669 - mae: 11.0669\n",
            "Epoch 24/100\n",
            "1/1 [==============================] - 0s 10ms/step - loss: 10.9298 - mae: 10.9298\n",
            "Epoch 25/100\n",
            "1/1 [==============================] - 0s 9ms/step - loss: 11.6535 - mae: 11.6535\n",
            "Epoch 26/100\n",
            "1/1 [==============================] - 0s 8ms/step - loss: 12.0172 - mae: 12.0172\n",
            "Epoch 27/100\n",
            "1/1 [==============================] - 0s 13ms/step - loss: 12.2810 - mae: 12.2810\n",
            "Epoch 28/100\n",
            "1/1 [==============================] - 0s 9ms/step - loss: 11.7793 - mae: 11.7793\n",
            "Epoch 29/100\n",
            "1/1 [==============================] - 0s 9ms/step - loss: 11.2133 - mae: 11.2133\n",
            "Epoch 30/100\n",
            "1/1 [==============================] - 0s 9ms/step - loss: 10.3809 - mae: 10.3809\n",
            "Epoch 31/100\n",
            "1/1 [==============================] - 0s 9ms/step - loss: 10.1756 - mae: 10.1756\n",
            "Epoch 32/100\n",
            "1/1 [==============================] - 0s 11ms/step - loss: 10.8027 - mae: 10.8027\n",
            "Epoch 33/100\n",
            "1/1 [==============================] - 0s 10ms/step - loss: 11.1816 - mae: 11.1816\n",
            "Epoch 34/100\n",
            "1/1 [==============================] - 0s 8ms/step - loss: 10.8894 - mae: 10.8894\n",
            "Epoch 35/100\n",
            "1/1 [==============================] - 0s 7ms/step - loss: 10.0320 - mae: 10.0320\n",
            "Epoch 36/100\n",
            "1/1 [==============================] - 0s 9ms/step - loss: 9.4438 - mae: 9.4438\n",
            "Epoch 37/100\n",
            "1/1 [==============================] - 0s 7ms/step - loss: 9.4480 - mae: 9.4480\n",
            "Epoch 38/100\n",
            "1/1 [==============================] - 0s 8ms/step - loss: 9.7306 - mae: 9.7306\n",
            "Epoch 39/100\n",
            "1/1 [==============================] - 0s 9ms/step - loss: 9.5382 - mae: 9.5382\n",
            "Epoch 40/100\n",
            "1/1 [==============================] - 0s 10ms/step - loss: 8.9902 - mae: 8.9902\n",
            "Epoch 41/100\n",
            "1/1 [==============================] - 0s 9ms/step - loss: 8.5504 - mae: 8.5504\n",
            "Epoch 42/100\n",
            "1/1 [==============================] - 0s 7ms/step - loss: 8.2603 - mae: 8.2603\n",
            "Epoch 43/100\n",
            "1/1 [==============================] - 0s 8ms/step - loss: 8.7970 - mae: 8.7970\n",
            "Epoch 44/100\n",
            "1/1 [==============================] - 0s 7ms/step - loss: 8.8434 - mae: 8.8434\n",
            "Epoch 45/100\n",
            "1/1 [==============================] - 0s 8ms/step - loss: 8.3518 - mae: 8.3518\n",
            "Epoch 46/100\n",
            "1/1 [==============================] - 0s 8ms/step - loss: 7.6200 - mae: 7.6200\n",
            "Epoch 47/100\n",
            "1/1 [==============================] - 0s 6ms/step - loss: 7.5185 - mae: 7.5185\n",
            "Epoch 48/100\n",
            "1/1 [==============================] - 0s 9ms/step - loss: 7.5092 - mae: 7.5092\n",
            "Epoch 49/100\n",
            "1/1 [==============================] - 0s 6ms/step - loss: 7.1134 - mae: 7.1134\n",
            "Epoch 50/100\n",
            "1/1 [==============================] - 0s 8ms/step - loss: 6.7897 - mae: 6.7897\n",
            "Epoch 51/100\n",
            "1/1 [==============================] - 0s 6ms/step - loss: 6.4135 - mae: 6.4135\n",
            "Epoch 52/100\n",
            "1/1 [==============================] - 0s 6ms/step - loss: 5.9646 - mae: 5.9646\n",
            "Epoch 53/100\n",
            "1/1 [==============================] - 0s 6ms/step - loss: 5.9803 - mae: 5.9803\n",
            "Epoch 54/100\n",
            "1/1 [==============================] - 0s 11ms/step - loss: 5.6196 - mae: 5.6196\n",
            "Epoch 55/100\n",
            "1/1 [==============================] - 0s 8ms/step - loss: 5.2892 - mae: 5.2892\n",
            "Epoch 56/100\n",
            "1/1 [==============================] - 0s 10ms/step - loss: 5.0618 - mae: 5.0618\n",
            "Epoch 57/100\n",
            "1/1 [==============================] - 0s 8ms/step - loss: 5.0141 - mae: 5.0141\n",
            "Epoch 58/100\n",
            "1/1 [==============================] - 0s 7ms/step - loss: 4.2679 - mae: 4.2679\n",
            "Epoch 59/100\n",
            "1/1 [==============================] - 0s 9ms/step - loss: 4.5806 - mae: 4.5806\n",
            "Epoch 60/100\n",
            "1/1 [==============================] - 0s 17ms/step - loss: 3.6817 - mae: 3.6817\n",
            "Epoch 61/100\n",
            "1/1 [==============================] - 0s 6ms/step - loss: 5.4505 - mae: 5.4505\n",
            "Epoch 62/100\n",
            "1/1 [==============================] - 0s 7ms/step - loss: 3.3770 - mae: 3.3770\n",
            "Epoch 63/100\n",
            "1/1 [==============================] - 0s 6ms/step - loss: 4.3054 - mae: 4.3054\n",
            "Epoch 64/100\n",
            "1/1 [==============================] - 0s 9ms/step - loss: 3.0293 - mae: 3.0293\n",
            "Epoch 65/100\n",
            "1/1 [==============================] - 0s 7ms/step - loss: 2.8628 - mae: 2.8628\n",
            "Epoch 66/100\n",
            "1/1 [==============================] - 0s 7ms/step - loss: 2.6411 - mae: 2.6411\n",
            "Epoch 67/100\n",
            "1/1 [==============================] - 0s 11ms/step - loss: 3.2194 - mae: 3.2194\n",
            "Epoch 68/100\n",
            "1/1 [==============================] - 0s 8ms/step - loss: 2.0658 - mae: 2.0658\n",
            "Epoch 69/100\n",
            "1/1 [==============================] - 0s 8ms/step - loss: 1.9215 - mae: 1.9215\n",
            "Epoch 70/100\n",
            "1/1 [==============================] - 0s 11ms/step - loss: 2.7186 - mae: 2.7186\n",
            "Epoch 71/100\n",
            "1/1 [==============================] - 0s 12ms/step - loss: 4.6467 - mae: 4.6467\n",
            "Epoch 72/100\n",
            "1/1 [==============================] - 0s 11ms/step - loss: 1.3607 - mae: 1.3607\n",
            "Epoch 73/100\n",
            "1/1 [==============================] - 0s 6ms/step - loss: 6.0105 - mae: 6.0105\n",
            "Epoch 74/100\n",
            "1/1 [==============================] - 0s 6ms/step - loss: 5.0395 - mae: 5.0395\n",
            "Epoch 75/100\n",
            "1/1 [==============================] - 0s 6ms/step - loss: 4.0820 - mae: 4.0820\n",
            "Epoch 76/100\n",
            "1/1 [==============================] - 0s 8ms/step - loss: 5.0154 - mae: 5.0154\n",
            "Epoch 77/100\n",
            "1/1 [==============================] - 0s 6ms/step - loss: 2.3218 - mae: 2.3218\n",
            "Epoch 78/100\n",
            "1/1 [==============================] - 0s 7ms/step - loss: 2.0279 - mae: 2.0279\n",
            "Epoch 79/100\n",
            "1/1 [==============================] - 0s 7ms/step - loss: 2.0307 - mae: 2.0307\n",
            "Epoch 80/100\n",
            "1/1 [==============================] - 0s 7ms/step - loss: 3.1795 - mae: 3.1795\n",
            "Epoch 81/100\n",
            "1/1 [==============================] - 0s 5ms/step - loss: 2.8121 - mae: 2.8121\n",
            "Epoch 82/100\n",
            "1/1 [==============================] - 0s 7ms/step - loss: 1.3183 - mae: 1.3183\n",
            "Epoch 83/100\n",
            "1/1 [==============================] - 0s 6ms/step - loss: 3.3125 - mae: 3.3125\n",
            "Epoch 84/100\n",
            "1/1 [==============================] - 0s 5ms/step - loss: 2.9386 - mae: 2.9386\n",
            "Epoch 85/100\n",
            "1/1 [==============================] - 0s 6ms/step - loss: 3.7250 - mae: 3.7250\n",
            "Epoch 86/100\n",
            "1/1 [==============================] - 0s 6ms/step - loss: 1.8122 - mae: 1.8122\n",
            "Epoch 87/100\n",
            "1/1 [==============================] - 0s 7ms/step - loss: 1.6013 - mae: 1.6013\n",
            "Epoch 88/100\n",
            "1/1 [==============================] - 0s 6ms/step - loss: 4.6969 - mae: 4.6969\n",
            "Epoch 89/100\n",
            "1/1 [==============================] - 0s 6ms/step - loss: 3.8700 - mae: 3.8700\n",
            "Epoch 90/100\n",
            "1/1 [==============================] - 0s 8ms/step - loss: 3.8773 - mae: 3.8773\n",
            "Epoch 91/100\n",
            "1/1 [==============================] - 0s 6ms/step - loss: 3.7120 - mae: 3.7120\n",
            "Epoch 92/100\n",
            "1/1 [==============================] - 0s 6ms/step - loss: 3.2574 - mae: 3.2574\n",
            "Epoch 93/100\n",
            "1/1 [==============================] - 0s 7ms/step - loss: 3.2442 - mae: 3.2442\n",
            "Epoch 94/100\n",
            "1/1 [==============================] - 0s 9ms/step - loss: 2.2967 - mae: 2.2967\n",
            "Epoch 95/100\n",
            "1/1 [==============================] - 0s 6ms/step - loss: 1.5211 - mae: 1.5211\n",
            "Epoch 96/100\n",
            "1/1 [==============================] - 0s 6ms/step - loss: 2.5369 - mae: 2.5369\n",
            "Epoch 97/100\n",
            "1/1 [==============================] - 0s 7ms/step - loss: 1.4888 - mae: 1.4888\n",
            "Epoch 98/100\n",
            "1/1 [==============================] - 0s 7ms/step - loss: 3.0752 - mae: 3.0752\n",
            "Epoch 99/100\n",
            "1/1 [==============================] - 0s 8ms/step - loss: 1.3083 - mae: 1.3083\n",
            "Epoch 100/100\n",
            "1/1 [==============================] - 0s 7ms/step - loss: 1.6685 - mae: 1.6685\n"
          ]
        },
        {
          "output_type": "execute_result",
          "data": {
            "text/plain": [
              "<keras.callbacks.History at 0x7f86ce9cc640>"
            ]
          },
          "metadata": {},
          "execution_count": 35
        }
      ]
    },
    {
      "cell_type": "code",
      "source": [
        "X,Y"
      ],
      "metadata": {
        "colab": {
          "base_uri": "https://localhost:8080/"
        },
        "id": "SdyKZSYdmrYB",
        "outputId": "b007bdfc-5818-439e-a5f5-670ebd79d7ad"
      },
      "execution_count": null,
      "outputs": [
        {
          "output_type": "execute_result",
          "data": {
            "text/plain": [
              "(<tf.Tensor: shape=(10,), dtype=float32, numpy=array([ 1.,  2.,  3.,  4.,  5.,  6.,  7.,  8.,  9., 10.], dtype=float32)>,\n",
              " <tf.Tensor: shape=(10,), dtype=float32, numpy=\n",
              " array([  1.,   4.,   9.,  16.,  25.,  36.,  49.,  64.,  81., 100.],\n",
              "       dtype=float32)>)"
            ]
          },
          "metadata": {},
          "execution_count": 31
        }
      ]
    },
    {
      "cell_type": "code",
      "source": [
        "tf.expand_dims(X,axis=-1)"
      ],
      "metadata": {
        "colab": {
          "base_uri": "https://localhost:8080/"
        },
        "id": "O77XYdNUl5nW",
        "outputId": "0a7527da-1129-4fc5-de60-afdda17e91f3"
      },
      "execution_count": null,
      "outputs": [
        {
          "output_type": "execute_result",
          "data": {
            "text/plain": [
              "<tf.Tensor: shape=(10, 1), dtype=float32, numpy=\n",
              "array([[ 1.],\n",
              "       [ 2.],\n",
              "       [ 3.],\n",
              "       [ 4.],\n",
              "       [ 5.],\n",
              "       [ 6.],\n",
              "       [ 7.],\n",
              "       [ 8.],\n",
              "       [ 9.],\n",
              "       [10.]], dtype=float32)>"
            ]
          },
          "metadata": {},
          "execution_count": 32
        }
      ]
    },
    {
      "cell_type": "code",
      "source": [
        "model.predict([20.])"
      ],
      "metadata": {
        "colab": {
          "base_uri": "https://localhost:8080/"
        },
        "id": "sx3jSltbmnJb",
        "outputId": "a01e7586-2634-4183-b975-bc09c9d47992"
      },
      "execution_count": null,
      "outputs": [
        {
          "output_type": "stream",
          "name": "stdout",
          "text": [
            "1/1 [==============================] - 0s 72ms/step\n"
          ]
        },
        {
          "output_type": "execute_result",
          "data": {
            "text/plain": [
              "array([[242.11606]], dtype=float32)"
            ]
          },
          "metadata": {},
          "execution_count": 36
        }
      ]
    },
    {
      "cell_type": "code",
      "source": [
        "new_x=tf.range(0,100,2)\n",
        "new_y=new_x*new_x"
      ],
      "metadata": {
        "id": "kLWCaIyvnJX_"
      },
      "execution_count": null,
      "outputs": []
    },
    {
      "cell_type": "code",
      "source": [
        "import matplotlib.pyplot as plt\n"
      ],
      "metadata": {
        "id": "rdTXFDaSuoXE"
      },
      "execution_count": null,
      "outputs": []
    },
    {
      "cell_type": "code",
      "source": [
        "model.fit(tf.expand_dims(new_x,axis=-1),new_y,epochs=100)"
      ],
      "metadata": {
        "colab": {
          "base_uri": "https://localhost:8080/"
        },
        "id": "dwsLTZVQuuBq",
        "outputId": "4577c698-e759-4aae-f2ee-552c714a7492"
      },
      "execution_count": null,
      "outputs": [
        {
          "output_type": "stream",
          "name": "stdout",
          "text": [
            "Epoch 1/100\n",
            "2/2 [==============================] - 0s 8ms/step - loss: 2341.8682 - mae: 2341.8682\n",
            "Epoch 2/100\n",
            "2/2 [==============================] - 0s 6ms/step - loss: 1289.8473 - mae: 1289.8473\n",
            "Epoch 3/100\n",
            "2/2 [==============================] - 0s 5ms/step - loss: 928.3926 - mae: 928.3926\n",
            "Epoch 4/100\n",
            "2/2 [==============================] - 0s 5ms/step - loss: 1181.8124 - mae: 1181.8124\n",
            "Epoch 5/100\n",
            "2/2 [==============================] - 0s 6ms/step - loss: 1184.0911 - mae: 1184.0911\n",
            "Epoch 6/100\n",
            "2/2 [==============================] - 0s 6ms/step - loss: 987.2751 - mae: 987.2751\n",
            "Epoch 7/100\n",
            "2/2 [==============================] - 0s 6ms/step - loss: 1078.0011 - mae: 1078.0011\n",
            "Epoch 8/100\n",
            "2/2 [==============================] - 0s 7ms/step - loss: 936.0330 - mae: 936.0330\n",
            "Epoch 9/100\n",
            "2/2 [==============================] - 0s 5ms/step - loss: 1065.1400 - mae: 1065.1400\n",
            "Epoch 10/100\n",
            "2/2 [==============================] - 0s 8ms/step - loss: 860.0511 - mae: 860.0511\n",
            "Epoch 11/100\n",
            "2/2 [==============================] - 0s 7ms/step - loss: 1060.9131 - mae: 1060.9131\n",
            "Epoch 12/100\n",
            "2/2 [==============================] - 0s 8ms/step - loss: 897.5586 - mae: 897.5586\n",
            "Epoch 13/100\n",
            "2/2 [==============================] - 0s 4ms/step - loss: 1041.3250 - mae: 1041.3250\n",
            "Epoch 14/100\n",
            "2/2 [==============================] - 0s 6ms/step - loss: 1067.8125 - mae: 1067.8125\n",
            "Epoch 15/100\n",
            "2/2 [==============================] - 0s 6ms/step - loss: 863.6273 - mae: 863.6273\n",
            "Epoch 16/100\n",
            "2/2 [==============================] - 0s 5ms/step - loss: 903.4202 - mae: 903.4202\n",
            "Epoch 17/100\n",
            "2/2 [==============================] - 0s 5ms/step - loss: 862.1965 - mae: 862.1965\n",
            "Epoch 18/100\n",
            "2/2 [==============================] - 0s 5ms/step - loss: 841.9659 - mae: 841.9659\n",
            "Epoch 19/100\n",
            "2/2 [==============================] - 0s 6ms/step - loss: 818.9560 - mae: 818.9560\n",
            "Epoch 20/100\n",
            "2/2 [==============================] - 0s 6ms/step - loss: 817.4441 - mae: 817.4441\n",
            "Epoch 21/100\n",
            "2/2 [==============================] - 0s 8ms/step - loss: 787.1503 - mae: 787.1503\n",
            "Epoch 22/100\n",
            "2/2 [==============================] - 0s 6ms/step - loss: 796.9849 - mae: 796.9849\n",
            "Epoch 23/100\n",
            "2/2 [==============================] - 0s 6ms/step - loss: 809.9341 - mae: 809.9341\n",
            "Epoch 24/100\n",
            "2/2 [==============================] - 0s 5ms/step - loss: 778.4695 - mae: 778.4695\n",
            "Epoch 25/100\n",
            "2/2 [==============================] - 0s 6ms/step - loss: 760.4117 - mae: 760.4117\n",
            "Epoch 26/100\n",
            "2/2 [==============================] - 0s 5ms/step - loss: 729.8854 - mae: 729.8854\n",
            "Epoch 27/100\n",
            "2/2 [==============================] - 0s 6ms/step - loss: 707.5549 - mae: 707.5549\n",
            "Epoch 28/100\n",
            "2/2 [==============================] - 0s 5ms/step - loss: 699.5482 - mae: 699.5482\n",
            "Epoch 29/100\n",
            "2/2 [==============================] - 0s 6ms/step - loss: 700.5535 - mae: 700.5535\n",
            "Epoch 30/100\n",
            "2/2 [==============================] - 0s 6ms/step - loss: 631.2307 - mae: 631.2307\n",
            "Epoch 31/100\n",
            "2/2 [==============================] - 0s 6ms/step - loss: 746.1275 - mae: 746.1275\n",
            "Epoch 32/100\n",
            "2/2 [==============================] - 0s 5ms/step - loss: 566.6299 - mae: 566.6299\n",
            "Epoch 33/100\n",
            "2/2 [==============================] - 0s 5ms/step - loss: 651.6769 - mae: 651.6769\n",
            "Epoch 34/100\n",
            "2/2 [==============================] - 0s 7ms/step - loss: 592.5100 - mae: 592.5100\n",
            "Epoch 35/100\n",
            "2/2 [==============================] - 0s 7ms/step - loss: 481.8895 - mae: 481.8895\n",
            "Epoch 36/100\n",
            "2/2 [==============================] - 0s 6ms/step - loss: 588.5532 - mae: 588.5532\n",
            "Epoch 37/100\n",
            "2/2 [==============================] - 0s 6ms/step - loss: 715.8339 - mae: 715.8339\n",
            "Epoch 38/100\n",
            "2/2 [==============================] - 0s 9ms/step - loss: 574.6749 - mae: 574.6749\n",
            "Epoch 39/100\n",
            "2/2 [==============================] - 0s 6ms/step - loss: 428.4704 - mae: 428.4704\n",
            "Epoch 40/100\n",
            "2/2 [==============================] - 0s 7ms/step - loss: 706.5056 - mae: 706.5056\n",
            "Epoch 41/100\n",
            "2/2 [==============================] - 0s 6ms/step - loss: 435.2424 - mae: 435.2424\n",
            "Epoch 42/100\n",
            "2/2 [==============================] - 0s 5ms/step - loss: 403.0980 - mae: 403.0980\n",
            "Epoch 43/100\n",
            "2/2 [==============================] - 0s 5ms/step - loss: 512.1797 - mae: 512.1797\n",
            "Epoch 44/100\n",
            "2/2 [==============================] - 0s 6ms/step - loss: 566.8195 - mae: 566.8195\n",
            "Epoch 45/100\n",
            "2/2 [==============================] - 0s 5ms/step - loss: 469.0649 - mae: 469.0649\n",
            "Epoch 46/100\n",
            "2/2 [==============================] - 0s 6ms/step - loss: 365.4831 - mae: 365.4831\n",
            "Epoch 47/100\n",
            "2/2 [==============================] - 0s 5ms/step - loss: 411.2800 - mae: 411.2800\n",
            "Epoch 48/100\n",
            "2/2 [==============================] - 0s 8ms/step - loss: 358.2231 - mae: 358.2231\n",
            "Epoch 49/100\n",
            "2/2 [==============================] - 0s 6ms/step - loss: 674.5399 - mae: 674.5399\n",
            "Epoch 50/100\n",
            "2/2 [==============================] - 0s 7ms/step - loss: 277.9982 - mae: 277.9982\n",
            "Epoch 51/100\n",
            "2/2 [==============================] - 0s 5ms/step - loss: 361.6614 - mae: 361.6614\n",
            "Epoch 52/100\n",
            "2/2 [==============================] - 0s 5ms/step - loss: 256.1460 - mae: 256.1460\n",
            "Epoch 53/100\n",
            "2/2 [==============================] - 0s 8ms/step - loss: 285.5359 - mae: 285.5359\n",
            "Epoch 54/100\n",
            "2/2 [==============================] - 0s 6ms/step - loss: 223.9899 - mae: 223.9899\n",
            "Epoch 55/100\n",
            "2/2 [==============================] - 0s 8ms/step - loss: 217.4495 - mae: 217.4495\n",
            "Epoch 56/100\n",
            "2/2 [==============================] - 0s 8ms/step - loss: 351.5965 - mae: 351.5965\n",
            "Epoch 57/100\n",
            "2/2 [==============================] - 0s 6ms/step - loss: 287.5579 - mae: 287.5579\n",
            "Epoch 58/100\n",
            "2/2 [==============================] - 0s 7ms/step - loss: 300.8200 - mae: 300.8200\n",
            "Epoch 59/100\n",
            "2/2 [==============================] - 0s 6ms/step - loss: 409.2283 - mae: 409.2283\n",
            "Epoch 60/100\n",
            "2/2 [==============================] - 0s 5ms/step - loss: 482.9401 - mae: 482.9401\n",
            "Epoch 61/100\n",
            "2/2 [==============================] - 0s 6ms/step - loss: 658.5326 - mae: 658.5326\n",
            "Epoch 62/100\n",
            "2/2 [==============================] - 0s 11ms/step - loss: 1002.8300 - mae: 1002.8300\n",
            "Epoch 63/100\n",
            "2/2 [==============================] - 0s 7ms/step - loss: 998.7188 - mae: 998.7188\n",
            "Epoch 64/100\n",
            "2/2 [==============================] - 0s 6ms/step - loss: 550.9113 - mae: 550.9113\n",
            "Epoch 65/100\n",
            "2/2 [==============================] - 0s 7ms/step - loss: 1134.6327 - mae: 1134.6327\n",
            "Epoch 66/100\n",
            "2/2 [==============================] - 0s 5ms/step - loss: 517.7333 - mae: 517.7333\n",
            "Epoch 67/100\n",
            "2/2 [==============================] - 0s 10ms/step - loss: 993.0630 - mae: 993.0630\n",
            "Epoch 68/100\n",
            "2/2 [==============================] - 0s 8ms/step - loss: 411.2767 - mae: 411.2767\n",
            "Epoch 69/100\n",
            "2/2 [==============================] - 0s 7ms/step - loss: 937.0345 - mae: 937.0345\n",
            "Epoch 70/100\n",
            "2/2 [==============================] - 0s 7ms/step - loss: 282.2862 - mae: 282.2862\n",
            "Epoch 71/100\n",
            "2/2 [==============================] - 0s 6ms/step - loss: 758.1149 - mae: 758.1149\n",
            "Epoch 72/100\n",
            "2/2 [==============================] - 0s 5ms/step - loss: 469.1093 - mae: 469.1093\n",
            "Epoch 73/100\n",
            "2/2 [==============================] - 0s 7ms/step - loss: 615.3950 - mae: 615.3950\n",
            "Epoch 74/100\n",
            "2/2 [==============================] - 0s 6ms/step - loss: 319.9100 - mae: 319.9100\n",
            "Epoch 75/100\n",
            "2/2 [==============================] - 0s 5ms/step - loss: 510.2455 - mae: 510.2455\n",
            "Epoch 76/100\n",
            "2/2 [==============================] - 0s 5ms/step - loss: 356.7251 - mae: 356.7251\n",
            "Epoch 77/100\n",
            "2/2 [==============================] - 0s 6ms/step - loss: 464.4530 - mae: 464.4530\n",
            "Epoch 78/100\n",
            "2/2 [==============================] - 0s 6ms/step - loss: 317.6859 - mae: 317.6859\n",
            "Epoch 79/100\n",
            "2/2 [==============================] - 0s 5ms/step - loss: 416.0129 - mae: 416.0129\n",
            "Epoch 80/100\n",
            "2/2 [==============================] - 0s 8ms/step - loss: 320.2574 - mae: 320.2574\n",
            "Epoch 81/100\n",
            "2/2 [==============================] - 0s 5ms/step - loss: 309.9307 - mae: 309.9307\n",
            "Epoch 82/100\n",
            "2/2 [==============================] - 0s 6ms/step - loss: 302.2576 - mae: 302.2576\n",
            "Epoch 83/100\n",
            "2/2 [==============================] - 0s 5ms/step - loss: 302.6635 - mae: 302.6635\n",
            "Epoch 84/100\n",
            "2/2 [==============================] - 0s 5ms/step - loss: 227.5922 - mae: 227.5922\n",
            "Epoch 85/100\n",
            "2/2 [==============================] - 0s 5ms/step - loss: 299.7920 - mae: 299.7920\n",
            "Epoch 86/100\n",
            "2/2 [==============================] - 0s 6ms/step - loss: 225.8230 - mae: 225.8230\n",
            "Epoch 87/100\n",
            "2/2 [==============================] - 0s 6ms/step - loss: 245.0923 - mae: 245.0923\n",
            "Epoch 88/100\n",
            "2/2 [==============================] - 0s 6ms/step - loss: 231.5300 - mae: 231.5300\n",
            "Epoch 89/100\n",
            "2/2 [==============================] - 0s 6ms/step - loss: 169.6828 - mae: 169.6828\n",
            "Epoch 90/100\n",
            "2/2 [==============================] - 0s 6ms/step - loss: 156.4499 - mae: 156.4499\n",
            "Epoch 91/100\n",
            "2/2 [==============================] - 0s 6ms/step - loss: 155.1071 - mae: 155.1071\n",
            "Epoch 92/100\n",
            "2/2 [==============================] - 0s 7ms/step - loss: 154.6301 - mae: 154.6301\n",
            "Epoch 93/100\n",
            "2/2 [==============================] - 0s 6ms/step - loss: 199.5019 - mae: 199.5019\n",
            "Epoch 94/100\n",
            "2/2 [==============================] - 0s 6ms/step - loss: 221.0425 - mae: 221.0425\n",
            "Epoch 95/100\n",
            "2/2 [==============================] - 0s 6ms/step - loss: 186.2420 - mae: 186.2420\n",
            "Epoch 96/100\n",
            "2/2 [==============================] - 0s 7ms/step - loss: 301.1726 - mae: 301.1726\n",
            "Epoch 97/100\n",
            "2/2 [==============================] - 0s 6ms/step - loss: 227.9291 - mae: 227.9291\n",
            "Epoch 98/100\n",
            "2/2 [==============================] - 0s 6ms/step - loss: 303.7676 - mae: 303.7676\n",
            "Epoch 99/100\n",
            "2/2 [==============================] - 0s 7ms/step - loss: 546.4613 - mae: 546.4613\n",
            "Epoch 100/100\n",
            "2/2 [==============================] - 0s 5ms/step - loss: 200.7005 - mae: 200.7005\n"
          ]
        },
        {
          "output_type": "execute_result",
          "data": {
            "text/plain": [
              "<keras.callbacks.History at 0x7f86d0bc02b0>"
            ]
          },
          "metadata": {},
          "execution_count": 39
        }
      ]
    },
    {
      "cell_type": "code",
      "source": [
        "model.predict([19.])"
      ],
      "metadata": {
        "colab": {
          "base_uri": "https://localhost:8080/"
        },
        "id": "GYOVbd8Nu43U",
        "outputId": "5aa9668f-9a4e-4556-a287-9cf9022d51c7"
      },
      "execution_count": null,
      "outputs": [
        {
          "output_type": "stream",
          "name": "stdout",
          "text": [
            "1/1 [==============================] - 0s 38ms/step\n"
          ]
        },
        {
          "output_type": "execute_result",
          "data": {
            "text/plain": [
              "array([[419.80823]], dtype=float32)"
            ]
          },
          "metadata": {},
          "execution_count": 40
        }
      ]
    },
    {
      "cell_type": "code",
      "source": [
        "new_y"
      ],
      "metadata": {
        "colab": {
          "base_uri": "https://localhost:8080/"
        },
        "id": "TXnNygxEve5R",
        "outputId": "f451cc28-3399-4f23-cae7-57e2ce1468c1"
      },
      "execution_count": null,
      "outputs": [
        {
          "output_type": "execute_result",
          "data": {
            "text/plain": [
              "<tf.Tensor: shape=(50,), dtype=int32, numpy=\n",
              "array([   0,    4,   16,   36,   64,  100,  144,  196,  256,  324,  400,\n",
              "        484,  576,  676,  784,  900, 1024, 1156, 1296, 1444, 1600, 1764,\n",
              "       1936, 2116, 2304, 2500, 2704, 2916, 3136, 3364, 3600, 3844, 4096,\n",
              "       4356, 4624, 4900, 5184, 5476, 5776, 6084, 6400, 6724, 7056, 7396,\n",
              "       7744, 8100, 8464, 8836, 9216, 9604], dtype=int32)>"
            ]
          },
          "metadata": {},
          "execution_count": 41
        }
      ]
    },
    {
      "cell_type": "code",
      "source": [
        "new_x"
      ],
      "metadata": {
        "colab": {
          "base_uri": "https://localhost:8080/"
        },
        "id": "_qMuTA5vwFWC",
        "outputId": "a94239a7-3f93-4e2b-f8b7-950bb8d8013f"
      },
      "execution_count": null,
      "outputs": [
        {
          "output_type": "execute_result",
          "data": {
            "text/plain": [
              "<tf.Tensor: shape=(50,), dtype=int32, numpy=\n",
              "array([ 0,  2,  4,  6,  8, 10, 12, 14, 16, 18, 20, 22, 24, 26, 28, 30, 32,\n",
              "       34, 36, 38, 40, 42, 44, 46, 48, 50, 52, 54, 56, 58, 60, 62, 64, 66,\n",
              "       68, 70, 72, 74, 76, 78, 80, 82, 84, 86, 88, 90, 92, 94, 96, 98],\n",
              "      dtype=int32)>"
            ]
          },
          "metadata": {},
          "execution_count": 42
        }
      ]
    },
    {
      "cell_type": "code",
      "source": [
        "import pandas as pd"
      ],
      "metadata": {
        "id": "Y_3fkfpNwIjK"
      },
      "execution_count": null,
      "outputs": []
    },
    {
      "cell_type": "code",
      "source": [
        "from tensorflow.keras.datasets import fashion_mnist"
      ],
      "metadata": {
        "id": "wdSSfb8b3XPq"
      },
      "execution_count": null,
      "outputs": []
    },
    {
      "cell_type": "code",
      "source": [
        "(x_train , y_train),(x_test,y_test)=fashion_mnist.load_data()"
      ],
      "metadata": {
        "colab": {
          "base_uri": "https://localhost:8080/"
        },
        "id": "FrMh9tz-cvND",
        "outputId": "62c6f2dd-39be-4eef-c2ea-658a88cbda52"
      },
      "execution_count": null,
      "outputs": [
        {
          "output_type": "stream",
          "name": "stdout",
          "text": [
            "Downloading data from https://storage.googleapis.com/tensorflow/tf-keras-datasets/train-labels-idx1-ubyte.gz\n",
            "29515/29515 [==============================] - 0s 0us/step\n",
            "Downloading data from https://storage.googleapis.com/tensorflow/tf-keras-datasets/train-images-idx3-ubyte.gz\n",
            "26421880/26421880 [==============================] - 0s 0us/step\n",
            "Downloading data from https://storage.googleapis.com/tensorflow/tf-keras-datasets/t10k-labels-idx1-ubyte.gz\n",
            "5148/5148 [==============================] - 0s 0us/step\n",
            "Downloading data from https://storage.googleapis.com/tensorflow/tf-keras-datasets/t10k-images-idx3-ubyte.gz\n",
            "4422102/4422102 [==============================] - 0s 0us/step\n"
          ]
        }
      ]
    },
    {
      "cell_type": "code",
      "source": [
        "print(x_train[0],y_train[0])"
      ],
      "metadata": {
        "colab": {
          "base_uri": "https://localhost:8080/"
        },
        "id": "PxCbox92c65E",
        "outputId": "8d47a71d-7325-4cd0-b11a-e7c62a95b606"
      },
      "execution_count": null,
      "outputs": [
        {
          "output_type": "stream",
          "name": "stdout",
          "text": [
            "[[  0   0   0   0   0   0   0   0   0   0   0   0   0   0   0   0   0   0\n",
            "    0   0   0   0   0   0   0   0   0   0]\n",
            " [  0   0   0   0   0   0   0   0   0   0   0   0   0   0   0   0   0   0\n",
            "    0   0   0   0   0   0   0   0   0   0]\n",
            " [  0   0   0   0   0   0   0   0   0   0   0   0   0   0   0   0   0   0\n",
            "    0   0   0   0   0   0   0   0   0   0]\n",
            " [  0   0   0   0   0   0   0   0   0   0   0   0   1   0   0  13  73   0\n",
            "    0   1   4   0   0   0   0   1   1   0]\n",
            " [  0   0   0   0   0   0   0   0   0   0   0   0   3   0  36 136 127  62\n",
            "   54   0   0   0   1   3   4   0   0   3]\n",
            " [  0   0   0   0   0   0   0   0   0   0   0   0   6   0 102 204 176 134\n",
            "  144 123  23   0   0   0   0  12  10   0]\n",
            " [  0   0   0   0   0   0   0   0   0   0   0   0   0   0 155 236 207 178\n",
            "  107 156 161 109  64  23  77 130  72  15]\n",
            " [  0   0   0   0   0   0   0   0   0   0   0   1   0  69 207 223 218 216\n",
            "  216 163 127 121 122 146 141  88 172  66]\n",
            " [  0   0   0   0   0   0   0   0   0   1   1   1   0 200 232 232 233 229\n",
            "  223 223 215 213 164 127 123 196 229   0]\n",
            " [  0   0   0   0   0   0   0   0   0   0   0   0   0 183 225 216 223 228\n",
            "  235 227 224 222 224 221 223 245 173   0]\n",
            " [  0   0   0   0   0   0   0   0   0   0   0   0   0 193 228 218 213 198\n",
            "  180 212 210 211 213 223 220 243 202   0]\n",
            " [  0   0   0   0   0   0   0   0   0   1   3   0  12 219 220 212 218 192\n",
            "  169 227 208 218 224 212 226 197 209  52]\n",
            " [  0   0   0   0   0   0   0   0   0   0   6   0  99 244 222 220 218 203\n",
            "  198 221 215 213 222 220 245 119 167  56]\n",
            " [  0   0   0   0   0   0   0   0   0   4   0   0  55 236 228 230 228 240\n",
            "  232 213 218 223 234 217 217 209  92   0]\n",
            " [  0   0   1   4   6   7   2   0   0   0   0   0 237 226 217 223 222 219\n",
            "  222 221 216 223 229 215 218 255  77   0]\n",
            " [  0   3   0   0   0   0   0   0   0  62 145 204 228 207 213 221 218 208\n",
            "  211 218 224 223 219 215 224 244 159   0]\n",
            " [  0   0   0   0  18  44  82 107 189 228 220 222 217 226 200 205 211 230\n",
            "  224 234 176 188 250 248 233 238 215   0]\n",
            " [  0  57 187 208 224 221 224 208 204 214 208 209 200 159 245 193 206 223\n",
            "  255 255 221 234 221 211 220 232 246   0]\n",
            " [  3 202 228 224 221 211 211 214 205 205 205 220 240  80 150 255 229 221\n",
            "  188 154 191 210 204 209 222 228 225   0]\n",
            " [ 98 233 198 210 222 229 229 234 249 220 194 215 217 241  65  73 106 117\n",
            "  168 219 221 215 217 223 223 224 229  29]\n",
            " [ 75 204 212 204 193 205 211 225 216 185 197 206 198 213 240 195 227 245\n",
            "  239 223 218 212 209 222 220 221 230  67]\n",
            " [ 48 203 183 194 213 197 185 190 194 192 202 214 219 221 220 236 225 216\n",
            "  199 206 186 181 177 172 181 205 206 115]\n",
            " [  0 122 219 193 179 171 183 196 204 210 213 207 211 210 200 196 194 191\n",
            "  195 191 198 192 176 156 167 177 210  92]\n",
            " [  0   0  74 189 212 191 175 172 175 181 185 188 189 188 193 198 204 209\n",
            "  210 210 211 188 188 194 192 216 170   0]\n",
            " [  2   0   0   0  66 200 222 237 239 242 246 243 244 221 220 193 191 179\n",
            "  182 182 181 176 166 168  99  58   0   0]\n",
            " [  0   0   0   0   0   0   0  40  61  44  72  41  35   0   0   0   0   0\n",
            "    0   0   0   0   0   0   0   0   0   0]\n",
            " [  0   0   0   0   0   0   0   0   0   0   0   0   0   0   0   0   0   0\n",
            "    0   0   0   0   0   0   0   0   0   0]\n",
            " [  0   0   0   0   0   0   0   0   0   0   0   0   0   0   0   0   0   0\n",
            "    0   0   0   0   0   0   0   0   0   0]] 9\n"
          ]
        }
      ]
    },
    {
      "cell_type": "code",
      "source": [
        "x_train.shape"
      ],
      "metadata": {
        "colab": {
          "base_uri": "https://localhost:8080/"
        },
        "id": "z6T2L6bJdHLa",
        "outputId": "959fae96-4f5f-4f73-bebd-5685a1fa2c5f"
      },
      "execution_count": null,
      "outputs": [
        {
          "output_type": "execute_result",
          "data": {
            "text/plain": [
              "(60000, 28, 28)"
            ]
          },
          "metadata": {},
          "execution_count": 47
        }
      ]
    },
    {
      "cell_type": "code",
      "source": [
        "plt.imshow(x_train[0])"
      ],
      "metadata": {
        "colab": {
          "base_uri": "https://localhost:8080/",
          "height": 282
        },
        "id": "jm5cRj_idR8b",
        "outputId": "5fd76349-cfe7-4923-9f59-af34cbe07929"
      },
      "execution_count": null,
      "outputs": [
        {
          "output_type": "execute_result",
          "data": {
            "text/plain": [
              "<matplotlib.image.AxesImage at 0x7f86cad6feb0>"
            ]
          },
          "metadata": {},
          "execution_count": 48
        },
        {
          "output_type": "display_data",
          "data": {
            "text/plain": [
              "<Figure size 432x288 with 1 Axes>"
            ],
            "image/png": "[encoded data removed]"
          },
          "metadata": {
            "needs_background": "light"
          }
        }
      ]
    },
    {
      "cell_type": "code",
      "source": [
        "classes=['T-shirt/Top','Trouser','Pullover','Dress','Coat','Sandal','Shirt','Sneaker','Bag','Ankleboot']\n"
      ],
      "metadata": {
        "id": "lBI2ObTLdY-B"
      },
      "execution_count": null,
      "outputs": []
    },
    {
      "cell_type": "code",
      "source": [
        "x_train[0].shape"
      ],
      "metadata": {
        "colab": {
          "base_uri": "https://localhost:8080/"
        },
        "id": "JVDELWv1kbgi",
        "outputId": "c11f1425-75f1-4a29-f91d-2d467bef25b5"
      },
      "execution_count": null,
      "outputs": [
        {
          "output_type": "execute_result",
          "data": {
            "text/plain": [
              "(28, 28)"
            ]
          },
          "metadata": {},
          "execution_count": 56
        }
      ]
    },
    {
      "cell_type": "code",
      "source": [
        "# creating a model \n",
        "model = tf.keras.Sequential([\n",
        "    tf.keras.layers.Flatten(input_shape=(28,28)),\n",
        "    tf.keras.layers.Dense(4,activation='relu'),\n",
        "    tf.keras.layers.Dense(4,activation='relu'),\n",
        "    tf.keras.layers.Dense(10,activation='softmax')\n",
        "])\n",
        "\n",
        "# compiling a model\n",
        "\n",
        "model.compile(loss=tf.keras.losses.CategoricalCrossentropy(),\n",
        "              optimizer=tf.keras.optimizers.Adam(),\n",
        "              metrics=['accuracy'])\n"
      ],
      "metadata": {
        "id": "dign4I7Md8ic"
      },
      "execution_count": null,
      "outputs": []
    },
    {
      "cell_type": "code",
      "source": [
        "# fitting the model with training data\n",
        "history=model.fit(x_train,tf.one_hot(y_train,depth=10),epochs=10,validation_data=(x_test,tf.one_hot(y_test,depth=10)))"
      ],
      "metadata": {
        "colab": {
          "base_uri": "https://localhost:8080/"
        },
        "id": "Gq7yBa8yjpFh",
        "outputId": "3125c0eb-ed7a-4fd5-f02f-5bbf25d1d2af"
      },
      "execution_count": null,
      "outputs": [
        {
          "output_type": "stream",
          "name": "stdout",
          "text": [
            "Epoch 1/10\n",
            "1875/1875 [==============================] - 4s 2ms/step - loss: 2.2883 - accuracy: 0.1077 - val_loss: 2.3001 - val_accuracy: 0.1022\n",
            "Epoch 2/10\n",
            "1875/1875 [==============================] - 3s 2ms/step - loss: 2.2036 - accuracy: 0.1449 - val_loss: 2.0993 - val_accuracy: 0.1887\n",
            "Epoch 3/10\n",
            "1875/1875 [==============================] - 3s 2ms/step - loss: 1.9540 - accuracy: 0.1986 - val_loss: 1.8081 - val_accuracy: 0.2310\n",
            "Epoch 4/10\n",
            "1875/1875 [==============================] - 3s 2ms/step - loss: 1.7816 - accuracy: 0.2195 - val_loss: 1.7996 - val_accuracy: 0.1992\n",
            "Epoch 5/10\n",
            "1875/1875 [==============================] - 3s 2ms/step - loss: 1.7315 - accuracy: 0.2420 - val_loss: 1.7419 - val_accuracy: 0.2603\n",
            "Epoch 6/10\n",
            "1875/1875 [==============================] - 3s 2ms/step - loss: 1.6990 - accuracy: 0.2601 - val_loss: 1.7034 - val_accuracy: 0.2645\n",
            "Epoch 7/10\n",
            "1875/1875 [==============================] - 3s 2ms/step - loss: 1.6811 - accuracy: 0.2640 - val_loss: 1.6776 - val_accuracy: 0.2648\n",
            "Epoch 8/10\n",
            "1875/1875 [==============================] - 3s 2ms/step - loss: 1.6691 - accuracy: 0.2598 - val_loss: 1.6732 - val_accuracy: 0.2623\n",
            "Epoch 9/10\n",
            "1875/1875 [==============================] - 3s 2ms/step - loss: 1.6588 - accuracy: 0.2627 - val_loss: 1.6611 - val_accuracy: 0.2704\n",
            "Epoch 10/10\n",
            "1875/1875 [==============================] - 3s 2ms/step - loss: 1.6485 - accuracy: 0.2718 - val_loss: 1.6452 - val_accuracy: 0.2776\n"
          ]
        }
      ]
    },
    {
      "cell_type": "code",
      "source": [
        "x_train_norm = x_train/255.0\n",
        "x_test_norm = x_test/255.0"
      ],
      "metadata": {
        "id": "0f5-hPRZj4Du"
      },
      "execution_count": null,
      "outputs": []
    },
    {
      "cell_type": "code",
      "source": [
        "history_norm=model.fit(x_train_norm,tf.one_hot(y_train,depth=10),epochs=10,validation_data=(x_test_norm,tf.one_hot(y_test,depth=10)))"
      ],
      "metadata": {
        "colab": {
          "base_uri": "https://localhost:8080/"
        },
        "id": "fAnGPWLcnQvd",
        "outputId": "8627908a-c669-4662-a4f7-46d2a1f5eb3f"
      },
      "execution_count": null,
      "outputs": [
        {
          "output_type": "stream",
          "name": "stdout",
          "text": [
            "Epoch 1/10\n",
            "1875/1875 [==============================] - 4s 2ms/step - loss: 1.2035 - accuracy: 0.6106 - val_loss: 0.8734 - val_accuracy: 0.7219\n",
            "Epoch 2/10\n",
            "1875/1875 [==============================] - 3s 2ms/step - loss: 0.7363 - accuracy: 0.7660 - val_loss: 0.6694 - val_accuracy: 0.7779\n",
            "Epoch 3/10\n",
            "1875/1875 [==============================] - 3s 2ms/step - loss: 0.6150 - accuracy: 0.7945 - val_loss: 0.6154 - val_accuracy: 0.7916\n",
            "Epoch 4/10\n",
            "1875/1875 [==============================] - 3s 2ms/step - loss: 0.5794 - accuracy: 0.8040 - val_loss: 0.5886 - val_accuracy: 0.8015\n",
            "Epoch 5/10\n",
            "1875/1875 [==============================] - 3s 2ms/step - loss: 0.5589 - accuracy: 0.8120 - val_loss: 0.5816 - val_accuracy: 0.8015\n",
            "Epoch 6/10\n",
            "1875/1875 [==============================] - 3s 2ms/step - loss: 0.5468 - accuracy: 0.8155 - val_loss: 0.5774 - val_accuracy: 0.8003\n",
            "Epoch 7/10\n",
            "1875/1875 [==============================] - 3s 2ms/step - loss: 0.5375 - accuracy: 0.8193 - val_loss: 0.5640 - val_accuracy: 0.8072\n",
            "Epoch 8/10\n",
            "1875/1875 [==============================] - 3s 2ms/step - loss: 0.5317 - accuracy: 0.8210 - val_loss: 0.5811 - val_accuracy: 0.8035\n",
            "Epoch 9/10\n",
            "1875/1875 [==============================] - 4s 2ms/step - loss: 0.5260 - accuracy: 0.8229 - val_loss: 0.5526 - val_accuracy: 0.8122\n",
            "Epoch 10/10\n",
            "1875/1875 [==============================] - 3s 2ms/step - loss: 0.5203 - accuracy: 0.8249 - val_loss: 0.5575 - val_accuracy: 0.8095\n"
          ]
        }
      ]
    },
    {
      "cell_type": "code",
      "source": [
        "import zipfile"
      ],
      "metadata": {
        "id": "zz8EV-m1nbxs"
      },
      "execution_count": null,
      "outputs": []
    },
    {
      "cell_type": "code",
      "source": [
        "!wget https://storage.googleapis.com/ztm_tf_course/food_vision/pizza_steak.zip"
      ],
      "metadata": {
        "colab": {
          "base_uri": "https://localhost:8080/"
        },
        "id": "yUlV2iIo2JuC",
        "outputId": "c0b38264-9926-4964-d1eb-ddf6b2f7e33c"
      },
      "execution_count": null,
      "outputs": [
        {
          "output_type": "stream",
          "name": "stdout",
          "text": [
            "--2022-12-15 06:21:46--  https://storage.googleapis.com/ztm_tf_course/food_vision/pizza_steak.zip\n",
            "Resolving storage.googleapis.com (storage.googleapis.com)... 74.125.68.128, 74.125.24.128, 142.250.4.128, ...\n",
            "Connecting to storage.googleapis.com (storage.googleapis.com)|74.125.68.128|:443... connected.\n",
            "HTTP request sent, awaiting response... 200 OK\n",
            "Length: 109540975 (104M) [application/zip]\n",
            "Saving to: ‘pizza_steak.zip’\n",
            "\n",
            "pizza_steak.zip     100%[===================>] 104.47M  24.1MB/s    in 5.4s    \n",
            "\n",
            "2022-12-15 06:21:51 (19.3 MB/s) - ‘pizza_steak.zip’ saved [109540975/109540975]\n",
            "\n"
          ]
        }
      ]
    },
    {
      "cell_type": "code",
      "source": [
        "zip_ref=zipfile.ZipFile(\"pizza_steak.zip\")"
      ],
      "metadata": {
        "id": "UVne9U2e2Lkh"
      },
      "execution_count": null,
      "outputs": []
    },
    {
      "cell_type": "code",
      "source": [
        "zip_ref.extractall()"
      ],
      "metadata": {
        "id": "XHSvjOX22cZ9"
      },
      "execution_count": null,
      "outputs": []
    },
    {
      "cell_type": "code",
      "source": [
        "zip_ref.close()"
      ],
      "metadata": {
        "id": "5cmhR-FG26g3"
      },
      "execution_count": null,
      "outputs": []
    },
    {
      "cell_type": "code",
      "source": [
        "import tensorflow as tf \n",
        "import numpy as np\n",
        "import pandas as pd \n",
        "import matplotlib.pyplot as plt\n"
      ],
      "metadata": {
        "id": "MFMsCemYeUnG"
      },
      "execution_count": null,
      "outputs": []
    },
    {
      "cell_type": "code",
      "source": [
        "import matplotlib.image as mpimg\n",
        "img = mpimg.imread('/content/pizza_steak/train/pizza/1008144.jpg')"
      ],
      "metadata": {
        "id": "4a6rYuq32_pl"
      },
      "execution_count": null,
      "outputs": []
    },
    {
      "cell_type": "code",
      "source": [
        "# img"
      ],
      "metadata": {
        "id": "wVY2bNrK4vMY"
      },
      "execution_count": null,
      "outputs": []
    },
    {
      "cell_type": "code",
      "source": [
        "from tensorflow.keras.preprocessing.image import ImageDataGenerator"
      ],
      "metadata": {
        "id": "tG8auu614v5o"
      },
      "execution_count": null,
      "outputs": []
    },
    {
      "cell_type": "code",
      "source": [
        "train_datagen= ImageDataGenerator(rescale=1./255)\n",
        "valid_datagen= ImageDataGenerator(rescale=1./255) \n",
        "\n",
        "train_dir = \"/content/pizza_steak/train\"\n",
        "test_dir = \"/content/pizza_steak/test\"\n",
        "train_data = train_datagen.flow_from_directory(directory=train_dir,\n",
        "                                               batch_size=32,\n",
        "                                               target_size=(224,224),\n",
        "                                               class_mode=\"binary\",\n",
        "                                               seed=42)\n",
        "valid_data = valid_datagen.flow_from_directory(directory=test_dir,\n",
        "                                               batch_size=32,\n",
        "                                               target_size=(224,224),\n",
        "                                               class_mode=\"binary\",\n",
        "                                               seed=42)"
      ],
      "metadata": {
        "colab": {
          "base_uri": "https://localhost:8080/"
        },
        "id": "149rVwuq68S5",
        "outputId": "d97c3ff9-443c-426b-a45a-238efca421e2"
      },
      "execution_count": null,
      "outputs": [
        {
          "output_type": "stream",
          "name": "stdout",
          "text": [
            "Found 1500 images belonging to 2 classes.\n",
            "Found 500 images belonging to 2 classes.\n"
          ]
        }
      ]
    },
    {
      "cell_type": "code",
      "source": [
        "model_cnn = tf.keras.models.Sequential([\n",
        "    tf.keras.layers.Conv2D(filters=10,\n",
        "                           kernel_size=1,\n",
        "                           activation='relu',\n",
        "                           input_shape=(224,224,3)),\n",
        "    tf.keras.layers.Conv2D(10,1,activation='relu'),\n",
        "    tf.keras.layers.MaxPool2D(pool_size=(2,4),\n",
        "                              padding='valid'),\n",
        "    tf.keras.layers.Conv2D(10,1,activation='relu'),\n",
        "    tf.keras.layers.Conv2D(10,1,activation='relu'),\n",
        "    tf.keras.layers.MaxPool2D(2),\n",
        "    tf.keras.layers.Flatten(),\n",
        "    tf.keras.layers.Dense(1,activation='sigmoid')                          \n",
        "])\n",
        "\n",
        "model_cnn.compile(loss=tf.keras.losses.BinaryCrossentropy(),\n",
        "                  optimizer=tf.keras.optimizers.Adam(),\n",
        "                  metrics=['accuracy'])\n",
        "\n"
      ],
      "metadata": {
        "id": "6ebwvjshvGXf"
      },
      "execution_count": null,
      "outputs": []
    },
    {
      "cell_type": "code",
      "source": [
        "model_cnn.fit(train_data,\n",
        "              epochs=5,\n",
        "              steps_per_epoch=len(train_data),\n",
        "              validation_data=valid_data,\n",
        "              validation_steps=len(valid_data))"
      ],
      "metadata": {
        "colab": {
          "base_uri": "https://localhost:8080/"
        },
        "id": "uVjAY20bbetT",
        "outputId": "70d471d0-90f4-41f2-90cd-5f26c42e1ef3"
      },
      "execution_count": null,
      "outputs": [
        {
          "output_type": "stream",
          "name": "stdout",
          "text": [
            "Epoch 1/5\n",
            "47/47 [==============================] - 10s 198ms/step - loss: 0.6349 - accuracy: 0.6473 - val_loss: 0.5395 - val_accuracy: 0.7480\n",
            "Epoch 2/5\n",
            "47/47 [==============================] - 10s 208ms/step - loss: 0.4978 - accuracy: 0.7673 - val_loss: 0.4145 - val_accuracy: 0.8180\n",
            "Epoch 3/5\n",
            "47/47 [==============================] - 9s 194ms/step - loss: 0.4391 - accuracy: 0.8020 - val_loss: 0.3871 - val_accuracy: 0.8300\n",
            "Epoch 4/5\n",
            "47/47 [==============================] - 9s 191ms/step - loss: 0.4241 - accuracy: 0.8153 - val_loss: 0.3490 - val_accuracy: 0.8580\n",
            "Epoch 5/5\n",
            "47/47 [==============================] - 9s 192ms/step - loss: 0.4062 - accuracy: 0.8233 - val_loss: 0.3511 - val_accuracy: 0.8580\n"
          ]
        },
        {
          "output_type": "execute_result",
          "data": {
            "text/plain": [
              "<keras.callbacks.History at 0x7f219c723df0>"
            ]
          },
          "metadata": {},
          "execution_count": 38
        }
      ]
    },
    {
      "cell_type": "code",
      "source": [
        "model_cnn.summary()"
      ],
      "metadata": {
        "colab": {
          "base_uri": "https://localhost:8080/"
        },
        "id": "k5-rZKEWcsmG",
        "outputId": "06e4f5d0-a966-44b6-fbec-60aaa5e7f571"
      },
      "execution_count": null,
      "outputs": [
        {
          "output_type": "stream",
          "name": "stdout",
          "text": [
            "Model: \"sequential_5\"\n",
            "_________________________________________________________________\n",
            " Layer (type)                Output Shape              Param #   \n",
            "=================================================================\n",
            " conv2d_22 (Conv2D)          (None, 224, 224, 10)      40        \n",
            "                                                                 \n",
            " conv2d_23 (Conv2D)          (None, 224, 224, 10)      110       \n",
            "                                                                 \n",
            " max_pooling2d_10 (MaxPoolin  (None, 112, 56, 10)      0         \n",
            " g2D)                                                            \n",
            "                                                                 \n",
            " conv2d_24 (Conv2D)          (None, 112, 56, 10)       110       \n",
            "                                                                 \n",
            " conv2d_25 (Conv2D)          (None, 112, 56, 10)       110       \n",
            "                                                                 \n",
            " max_pooling2d_11 (MaxPoolin  (None, 56, 28, 10)       0         \n",
            " g2D)                                                            \n",
            "                                                                 \n",
            " flatten_5 (Flatten)         (None, 15680)             0         \n",
            "                                                                 \n",
            " dense_5 (Dense)             (None, 1)                 15681     \n",
            "                                                                 \n",
            "=================================================================\n",
            "Total params: 16,051\n",
            "Trainable params: 16,051\n",
            "Non-trainable params: 0\n",
            "_________________________________________________________________\n"
          ]
        }
      ]
    },
    {
      "cell_type": "code",
      "source": [],
      "metadata": {
        "colab": {
          "base_uri": "https://localhost:8080/"
        },
        "id": "XuFTiA8Khb9o",
        "outputId": "64dc920f-0fc1-4b74-d81a-f87b8154782a"
      },
      "execution_count": null,
      "outputs": [
        {
          "output_type": "execute_result",
          "data": {
            "text/plain": [
              "(224, 224, 3)"
            ]
          },
          "metadata": {},
          "execution_count": 21
        }
      ]
    },
    {
      "cell_type": "code",
      "source": [],
      "metadata": {
        "id": "zltZq1fLhrKw",
        "colab": {
          "base_uri": "https://localhost:8080/"
        },
        "outputId": "58769154-71ca-4603-b2a3-9b59e92f7298"
      },
      "execution_count": 3,
      "outputs": [
        {
          "output_type": "stream",
          "name": "stdout",
          "text": [
            "fatal: not a git repository (or any of the parent directories): .git\n"
          ]
        }
      ]
    },
    {
      "cell_type": "code",
      "source": [],
      "metadata": {
        "id": "wwRwb5ORK9Dv"
      },
      "execution_count": null,
      "outputs": []
    }
  ]
}